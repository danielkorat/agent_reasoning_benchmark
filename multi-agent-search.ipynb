{
 "cells": [
  {
   "cell_type": "code",
   "execution_count": 7,
   "metadata": {},
   "outputs": [],
   "source": [
    "import os\n",
    "os.environ[\"SERPAPI_API_KEY\"]=\"c883f29263611e9852a938faf22bdbb015f41473b57563d4842950556bafebba\""
   ]
  },
  {
   "cell_type": "code",
   "execution_count": 6,
   "metadata": {},
   "outputs": [],
   "source": [
    "!python -m pip install python-dotenv pathvalidate markdownify puremagic mammoth python-pptx easyocr pdfminer.six pypdf easyocr google-search-results -qqq\n",
    "# !python -m pip install torch==2.3.0 -qqq"
   ]
  },
  {
   "cell_type": "code",
   "execution_count": 12,
   "metadata": {},
   "outputs": [],
   "source": [
    "from transformers.agents import ReactJsonAgent, HfEngine\n",
    "from utils.web_surfer import *\n",
    "from transformers.agents.prompts import DEFAULT_REACT_JSON_SYSTEM_PROMPT\n",
    "import shutil\n",
    "\n",
    "WEB_TOOLS = [\n",
    "    SearchInformationTool(),\n",
    "    NavigationalSearchTool(),\n",
    "    VisitTool(),\n",
    "    DownloadTool(),\n",
    "    PageUpTool(),\n",
    "    PageDownTool(),\n",
    "    FinderTool(),\n",
    "    FindNextTool(),\n",
    "]\n",
    "\n",
    "websurfer_llm_engine=HfEngine(\"http://127.0.0.1:8087\")\n",
    "\n",
    "surfer_agent = ReactJsonAgent(\n",
    "    llm_engine=websurfer_llm_engine,\n",
    "    tools=WEB_TOOLS,\n",
    "    max_iterations=12,\n",
    "    verbose=1,\n",
    "    system_prompt=DEFAULT_REACT_JSON_SYSTEM_PROMPT + \"\\nAdditionally, if after some searching you find out that you need more information to answer the question, you can use `final_answer` with your request for clarification as argument to request for more information.\",\n",
    ")\n"
   ]
  },
  {
   "cell_type": "code",
   "execution_count": 13,
   "metadata": {},
   "outputs": [],
   "source": [
    "class SearchTool(Tool):\n",
    "    name = \"ask_search_agent\"\n",
    "    description = \"A search agent that will browse the internet to answer your query. Ask him for all your web-search related questions, but he's unable to do problem-solving. Provide him as much context as possible, in particular if you need to search on a specific timeframe!\"\n",
    "\n",
    "    inputs = {\n",
    "        \"query\": {\n",
    "            \"description\": \"Your query, as a natural language sentence. You are talking to an human, so provide them with as much context as possible! \",\n",
    "            \"type\": \"text\",\n",
    "        }\n",
    "    }\n",
    "    output_type = \"text\"\n",
    "    already_started = False\n",
    "\n",
    "    def forward(self, query: str) -> str:\n",
    "        return surfer_agent.run(query + (f\"\\nYour browser is already open to the page '{browser.page_title}' at the address '{browser.address}'.\" if self.already_started else \"\"))\n",
    "\n",
    "\n",
    "class ZipInspectorTool(Tool):\n",
    "    name = \"extract_inspect_zip_folder\"\n",
    "    description = \"Use this to extract and inspect the contents of a zip folder.\"\n",
    "    inputs = {\n",
    "        \"folder\": {\n",
    "            \"description\": \"The path to the zip folder you want to inspect.\",\n",
    "            \"type\": \"text\",\n",
    "        }\n",
    "    }\n",
    "    output_type = \"text\"\n",
    "\n",
    "    def forward(self, folder: str) -> str:\n",
    "        folder_name = folder.replace(\".zip\", \"\")\n",
    "        os.makedirs(folder_name, exist_ok=True)\n",
    "        shutil.unpack_archive(folder, folder_name)\n",
    "\n",
    "        # Convert the extracted files\n",
    "        result = \"We extracted all files from the zip into a directory: find the extracted files at the following paths:\\n\"\n",
    "        for root, dirs, files in os.walk(folder_name):\n",
    "            for file in files:\n",
    "                result += f\"- {os.path.join(root, file)}\\n\"\n",
    "\n",
    "        return result"
   ]
  }
 ],
 "metadata": {
  "kernelspec": {
   "display_name": "agents",
   "language": "python",
   "name": "python3"
  },
  "language_info": {
   "codemirror_mode": {
    "name": "ipython",
    "version": 3
   },
   "file_extension": ".py",
   "mimetype": "text/x-python",
   "name": "python",
   "nbconvert_exporter": "python",
   "pygments_lexer": "ipython3",
   "version": "3.10.14"
  }
 },
 "nbformat": 4,
 "nbformat_minor": 2
}